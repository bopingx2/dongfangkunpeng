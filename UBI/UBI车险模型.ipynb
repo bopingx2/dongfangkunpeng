{
 "cells": [
  {
   "attachments": {},
   "cell_type": "markdown",
   "metadata": {},
   "source": [
    "# UBI车险模型\n",
    "数据源: 第三方数据源（已经过清洗和处理） <br>\n",
    "案例参考：https://blog.csdn.net/weixin_39593469/article/details/112510661?utm_medium=distribute.pc_relevant.none-task-blog-2~default~baidujs_utm_term~default-1-112510661-blog-60866782.235<br>\n",
    "http://erepository.uonbi.ac.ke/bitstream/handle/11295/154304/Masese_Application%20of%20generalized%20linear%20Models%20in%20Pricing%20Usage-Based%20Insurance.pdf?sequence=1<br>\n",
    "作者：夏伯平、张哲宁 <br>\n",
    "\n",
    "故事背景：[*待补充*]<br>\n",
    "在一般线性回归中，目标值$y$与特征向量$x_1$，$x_2$，……，$x_n$的线性关系可表述为$$E(y) = b_0 + b_1x_1 + b_2x_2 + ... + b_nx_n$$\n",
    "而在实际情况中，目标值$y$与特征向量$x_1$，$x_2$，……，$x_n$的关系可能不为线性：如$y$为二元分类（0或1）或离散数据（事件发生次数），这时我们不能使用一般线性回归。但如果我们能通过某种变换，重新使目标值$y$与特征向量$x_1$，$x_2$，……，$x_n$产生线性关系，我们便能使用最小二乘法或最大似然估计计算出对应的系数。这便是广义线性回归。<br>\n",
    "广义线性回归中，使目标值$y$发生变换的函数称为链接函数$g(·)$，此时目标值$y$与特征向量$x_1$，$x_2$，……，$x_n$的线性关系可表述为$$g(E(y)) = b_0 + b_1x_1 + b_2x_2 + ... + b_nx_n$$\n",
    "此时我们的预测值的计算方式为$$E(\\hat{y}) = g^{-1}(b_0 + b_1x_1 + b_2x_2 + ... + b_nx_n)$$"
   ]
  },
  {
   "attachments": {},
   "cell_type": "markdown",
   "metadata": {},
   "source": [
    "**目录**\n",
    "1. 数据导入以及相关性分析\n",
    "2. 广义线性模型拟合及分析\n",
    "3. 根据回归模型计算预期保费"
   ]
  },
  {
   "attachments": {},
   "cell_type": "markdown",
   "metadata": {},
   "source": [
    "## 1. 数据导入以及相关性分析"
   ]
  },
  {
   "cell_type": "code",
   "execution_count": 2,
   "metadata": {},
   "outputs": [],
   "source": [
    "# 导入相关工具库\n",
    "import pandas as pd\n",
    "import numpy as np\n",
    "import statsmodels.api as sm\n",
    "import seaborn as sns\n",
    "import matplotlib\n",
    "import matplotlib.pyplot as plt\n",
    "\n",
    "# 忽略警告信息（可选）\n",
    "import warnings\n",
    "warnings.filterwarnings(\"ignore\")\n",
    "\n",
    "# matplotlib参数设置，显示中文和字号12\n",
    "matplotlib.rcParams['font.family'] = 'Microsoft Yahei'\n",
    "plt.rc('font', size=12)"
   ]
  },
  {
   "attachments": {},
   "cell_type": "markdown",
   "metadata": {},
   "source": [
    "### 1.1 数据导入"
   ]
  },
  {
   "cell_type": "code",
   "execution_count": 42,
   "metadata": {},
   "outputs": [
    {
     "data": {
      "text/html": [
       "<div>\n",
       "<style scoped>\n",
       "    .dataframe tbody tr th:only-of-type {\n",
       "        vertical-align: middle;\n",
       "    }\n",
       "\n",
       "    .dataframe tbody tr th {\n",
       "        vertical-align: top;\n",
       "    }\n",
       "\n",
       "    .dataframe thead th {\n",
       "        text-align: right;\n",
       "    }\n",
       "</style>\n",
       "<table border=\"1\" class=\"dataframe\">\n",
       "  <thead>\n",
       "    <tr style=\"text-align: right;\">\n",
       "      <th></th>\n",
       "      <th>ID</th>\n",
       "      <th>出生日期</th>\n",
       "      <th>性别</th>\n",
       "      <th>婚姻状况</th>\n",
       "      <th>学历</th>\n",
       "      <th>用车区域</th>\n",
       "      <th>车辆用途</th>\n",
       "      <th>车辆价值</th>\n",
       "      <th>车辆类别</th>\n",
       "      <th>年平均里程</th>\n",
       "      <th>年平均车速</th>\n",
       "      <th>主要行车时间</th>\n",
       "      <th>出险频率</th>\n",
       "      <th>出险强度</th>\n",
       "    </tr>\n",
       "  </thead>\n",
       "  <tbody>\n",
       "    <tr>\n",
       "      <th>0</th>\n",
       "      <td>63581743</td>\n",
       "      <td>1939/3/16</td>\n",
       "      <td>男</td>\n",
       "      <td>未婚</td>\n",
       "      <td>博士</td>\n",
       "      <td>城镇</td>\n",
       "      <td>个人</td>\n",
       "      <td>10-20万</td>\n",
       "      <td>MPV</td>\n",
       "      <td>5千-1万</td>\n",
       "      <td>60-79</td>\n",
       "      <td>日间</td>\n",
       "      <td>1</td>\n",
       "      <td>848</td>\n",
       "    </tr>\n",
       "    <tr>\n",
       "      <th>1</th>\n",
       "      <td>132761049</td>\n",
       "      <td>1956/1/21</td>\n",
       "      <td>男</td>\n",
       "      <td>未婚</td>\n",
       "      <td>高中</td>\n",
       "      <td>城镇</td>\n",
       "      <td>单位</td>\n",
       "      <td>10-20万</td>\n",
       "      <td>MPV</td>\n",
       "      <td>小于5千</td>\n",
       "      <td>60-79</td>\n",
       "      <td>日间</td>\n",
       "      <td>0</td>\n",
       "      <td>182</td>\n",
       "    </tr>\n",
       "    <tr>\n",
       "      <th>2</th>\n",
       "      <td>921317019</td>\n",
       "      <td>1951/11/18</td>\n",
       "      <td>男</td>\n",
       "      <td>未婚</td>\n",
       "      <td>本科</td>\n",
       "      <td>城镇</td>\n",
       "      <td>个人</td>\n",
       "      <td>20-30万</td>\n",
       "      <td>厢式货车</td>\n",
       "      <td>1万-1万5</td>\n",
       "      <td>60-79</td>\n",
       "      <td>夜间</td>\n",
       "      <td>0</td>\n",
       "      <td>1915</td>\n",
       "    </tr>\n",
       "    <tr>\n",
       "      <th>3</th>\n",
       "      <td>727598473</td>\n",
       "      <td>1964/3/5</td>\n",
       "      <td>女</td>\n",
       "      <td>已婚</td>\n",
       "      <td>高中</td>\n",
       "      <td>城镇</td>\n",
       "      <td>个人</td>\n",
       "      <td>小于10万</td>\n",
       "      <td>SUV</td>\n",
       "      <td>1万5-2万</td>\n",
       "      <td>80-99</td>\n",
       "      <td>夜间</td>\n",
       "      <td>5</td>\n",
       "      <td>681</td>\n",
       "    </tr>\n",
       "    <tr>\n",
       "      <th>4</th>\n",
       "      <td>450221861</td>\n",
       "      <td>1948/6/5</td>\n",
       "      <td>男</td>\n",
       "      <td>已婚</td>\n",
       "      <td>高中以下</td>\n",
       "      <td>城镇</td>\n",
       "      <td>个人</td>\n",
       "      <td>10-20万</td>\n",
       "      <td>MPV</td>\n",
       "      <td>小于5千</td>\n",
       "      <td>小于40</td>\n",
       "      <td>日间</td>\n",
       "      <td>0</td>\n",
       "      <td>63</td>\n",
       "    </tr>\n",
       "  </tbody>\n",
       "</table>\n",
       "</div>"
      ],
      "text/plain": [
       "          ID        出生日期 性别 婚姻状况    学历 用车区域 车辆用途    车辆价值  车辆类别   年平均里程  年平均车速  \\\n",
       "0   63581743   1939/3/16  男   未婚    博士   城镇   个人  10-20万   MPV   5千-1万  60-79   \n",
       "1  132761049   1956/1/21  男   未婚    高中   城镇   单位  10-20万   MPV    小于5千  60-79   \n",
       "2  921317019  1951/11/18  男   未婚    本科   城镇   个人  20-30万  厢式货车  1万-1万5  60-79   \n",
       "3  727598473    1964/3/5  女   已婚    高中   城镇   个人   小于10万   SUV  1万5-2万  80-99   \n",
       "4  450221861    1948/6/5  男   已婚  高中以下   城镇   个人  10-20万   MPV    小于5千   小于40   \n",
       "\n",
       "  主要行车时间  出险频率  出险强度  \n",
       "0     日间     1   848  \n",
       "1     日间     0   182  \n",
       "2     夜间     0  1915  \n",
       "3     夜间     5   681  \n",
       "4     日间     0    63  "
      ]
     },
     "execution_count": 42,
     "metadata": {},
     "output_type": "execute_result"
    }
   ],
   "source": [
    "# 导入数据\n",
    "data_raw = pd.read_csv('客户信息.csv') \n",
    "# 查看数据前5行\n",
    "data_raw.head(5)"
   ]
  },
  {
   "cell_type": "code",
   "execution_count": 43,
   "metadata": {},
   "outputs": [
    {
     "name": "stdout",
     "output_type": "stream",
     "text": [
      "<class 'pandas.core.frame.DataFrame'>\n",
      "RangeIndex: 10302 entries, 0 to 10301\n",
      "Data columns (total 14 columns):\n",
      " #   Column  Non-Null Count  Dtype \n",
      "---  ------  --------------  ----- \n",
      " 0   ID      10302 non-null  int64 \n",
      " 1   出生日期    10302 non-null  object\n",
      " 2   性别      10302 non-null  object\n",
      " 3   婚姻状况    10302 non-null  object\n",
      " 4   学历      10302 non-null  object\n",
      " 5   用车区域    10302 non-null  object\n",
      " 6   车辆用途    10302 non-null  object\n",
      " 7   车辆价值    10302 non-null  object\n",
      " 8   车辆类别    10302 non-null  object\n",
      " 9   年平均里程   10302 non-null  object\n",
      " 10  年平均车速   10302 non-null  object\n",
      " 11  主要行车时间  10302 non-null  object\n",
      " 12  出险频率    10302 non-null  int64 \n",
      " 13  出险强度    10302 non-null  int64 \n",
      "dtypes: int64(3), object(11)\n",
      "memory usage: 1.1+ MB\n"
     ]
    }
   ],
   "source": [
    "# 使用info()函数对数据表进行初步预览\n",
    "data_raw.info()"
   ]
  },
  {
   "attachments": {},
   "cell_type": "markdown",
   "metadata": {},
   "source": [
    "该数据表包含10302条记录，其中多数列为类别数据。对于UBI模型，我们将从中选取可能与出险相关的驾驶员信息作为特征进行拟合。出于简化演示过程考虑，我们仅选取`用车区域`、`年平均里程`、`年平均车速`、`主要行车时间`这四个特征。"
   ]
  },
  {
   "cell_type": "code",
   "execution_count": 61,
   "metadata": {},
   "outputs": [
    {
     "data": {
      "text/html": [
       "<div>\n",
       "<style scoped>\n",
       "    .dataframe tbody tr th:only-of-type {\n",
       "        vertical-align: middle;\n",
       "    }\n",
       "\n",
       "    .dataframe tbody tr th {\n",
       "        vertical-align: top;\n",
       "    }\n",
       "\n",
       "    .dataframe thead th {\n",
       "        text-align: right;\n",
       "    }\n",
       "</style>\n",
       "<table border=\"1\" class=\"dataframe\">\n",
       "  <thead>\n",
       "    <tr style=\"text-align: right;\">\n",
       "      <th></th>\n",
       "      <th>用车区域</th>\n",
       "      <th>年平均里程</th>\n",
       "      <th>年平均车速</th>\n",
       "      <th>主要行车时间</th>\n",
       "      <th>出险频率</th>\n",
       "      <th>出险强度</th>\n",
       "    </tr>\n",
       "  </thead>\n",
       "  <tbody>\n",
       "    <tr>\n",
       "      <th>0</th>\n",
       "      <td>城镇</td>\n",
       "      <td>5千-1万</td>\n",
       "      <td>60-79</td>\n",
       "      <td>日间</td>\n",
       "      <td>1</td>\n",
       "      <td>848</td>\n",
       "    </tr>\n",
       "    <tr>\n",
       "      <th>1</th>\n",
       "      <td>城镇</td>\n",
       "      <td>小于5千</td>\n",
       "      <td>60-79</td>\n",
       "      <td>日间</td>\n",
       "      <td>0</td>\n",
       "      <td>182</td>\n",
       "    </tr>\n",
       "    <tr>\n",
       "      <th>2</th>\n",
       "      <td>城镇</td>\n",
       "      <td>1万-1万5</td>\n",
       "      <td>60-79</td>\n",
       "      <td>夜间</td>\n",
       "      <td>0</td>\n",
       "      <td>1915</td>\n",
       "    </tr>\n",
       "    <tr>\n",
       "      <th>3</th>\n",
       "      <td>城镇</td>\n",
       "      <td>1万5-2万</td>\n",
       "      <td>80-99</td>\n",
       "      <td>夜间</td>\n",
       "      <td>5</td>\n",
       "      <td>681</td>\n",
       "    </tr>\n",
       "    <tr>\n",
       "      <th>4</th>\n",
       "      <td>城镇</td>\n",
       "      <td>小于5千</td>\n",
       "      <td>小于40</td>\n",
       "      <td>日间</td>\n",
       "      <td>0</td>\n",
       "      <td>63</td>\n",
       "    </tr>\n",
       "  </tbody>\n",
       "</table>\n",
       "</div>"
      ],
      "text/plain": [
       "  用车区域   年平均里程  年平均车速 主要行车时间  出险频率  出险强度\n",
       "0   城镇   5千-1万  60-79     日间     1   848\n",
       "1   城镇    小于5千  60-79     日间     0   182\n",
       "2   城镇  1万-1万5  60-79     夜间     0  1915\n",
       "3   城镇  1万5-2万  80-99     夜间     5   681\n",
       "4   城镇    小于5千   小于40     日间     0    63"
      ]
     },
     "execution_count": 61,
     "metadata": {},
     "output_type": "execute_result"
    }
   ],
   "source": [
    "# 选取特征和目标\n",
    "data = data_raw[['用车区域', '年平均里程', '年平均车速', '主要行车时间', '出险频率', '出险强度']]\n",
    "# 查看数据前5行\n",
    "data.head(5)"
   ]
  },
  {
   "cell_type": "code",
   "execution_count": 10,
   "metadata": {},
   "outputs": [
    {
     "name": "stdout",
     "output_type": "stream",
     "text": [
      "用车区域的可取值为：['城镇' '农村']\n",
      "年平均里程的可取值为：['5千-1万' '小于5千' '1万-1万5' '1万5-2万' '大于2万']\n",
      "年平均车速的可取值为：['60-79' '80-99' '小于40' '40-59' '大于100']\n",
      "主要行车时间的可取值为：['日间' '夜间']\n"
     ]
    }
   ],
   "source": [
    "# 查看每列特征的可取值\n",
    "print(\"用车区域的可取值为：{}\".format(data['用车区域'].unique()))\n",
    "print(\"年平均里程的可取值为：{}\".format(data['年平均里程'].unique()))\n",
    "print(\"年平均车速的可取值为：{}\".format(data['年平均车速'].unique()))\n",
    "print(\"主要行车时间的可取值为：{}\".format(data['主要行车时间'].unique()))"
   ]
  },
  {
   "attachments": {},
   "cell_type": "markdown",
   "metadata": {},
   "source": [
    "### 1.2 相关性分析\n",
    "由于回归是对目标值的期望进行计算，所以在相关性分析中我们将使用每一特征分类对应的目标平均值进行分析"
   ]
  },
  {
   "attachments": {},
   "cell_type": "markdown",
   "metadata": {},
   "source": [
    "#### 1.2.1 出险频率与年平均里程"
   ]
  },
  {
   "cell_type": "code",
   "execution_count": 67,
   "metadata": {},
   "outputs": [
    {
     "data": {
      "text/plain": [
       "<AxesSubplot:xlabel='年平均里程', ylabel='出险频率'>"
      ]
     },
     "execution_count": 67,
     "metadata": {},
     "output_type": "execute_result"
    },
    {
     "data": {
      "image/png": "[encoded data removed]",
      "text/plain": [
       "<Figure size 640x480 with 1 Axes>"
      ]
     },
     "metadata": {},
     "output_type": "display_data"
    }
   ],
   "source": [
    "# 使用groupby函数对所选类别进行聚合，mean()为聚合后计算平均值\n",
    "# reset_index()重置聚合后数据表的索引值\n",
    "mile_freq = data.groupby('年平均里程').mean().reset_index()\n",
    "# Categorical()函数告知pandas该数据表中的某一列为类别数据以及对应的类别（categories）\n",
    "mf_order = ['小于5千', '5千-1万', '1万-1万5', '1万5-2万', '大于2万']\n",
    "mile_freq['年平均里程'] = pd.Categorical(mile_freq['年平均里程'], categories=mf_order)\n",
    "# 绘制条形图查看年平均里程和出险频率的关系\n",
    "sns.barplot(data=mile_freq, x='年平均里程', y='出险频率')"
   ]
  },
  {
   "attachments": {},
   "cell_type": "markdown",
   "metadata": {},
   "source": [
    "由图可以看出，出险频率随着里程数的增加而增加"
   ]
  },
  {
   "attachments": {},
   "cell_type": "markdown",
   "metadata": {},
   "source": [
    "#### 1.2.2 出险频率与年平均车速"
   ]
  },
  {
   "cell_type": "code",
   "execution_count": 68,
   "metadata": {},
   "outputs": [
    {
     "data": {
      "text/plain": [
       "<AxesSubplot:xlabel='年平均车速', ylabel='出险频率'>"
      ]
     },
     "execution_count": 68,
     "metadata": {},
     "output_type": "execute_result"
    },
    {
     "data": {
      "image/png": "[encoded data removed]",
      "text/plain": [
       "<Figure size 640x480 with 1 Axes>"
      ]
     },
     "metadata": {},
     "output_type": "display_data"
    }
   ],
   "source": [
    "# 聚合取平均并重新排序\n",
    "speed_freq = data.groupby('年平均车速').mean().reset_index()\n",
    "sf_order = ['小于40', '40-59', '60-79', '80-99', '大于100']\n",
    "speed_freq['年平均车速'] = pd.Categorical(speed_freq['年平均车速'], categories=sf_order)\n",
    "# 绘制条形图查看年平均车速和出险频率的关系\n",
    "sns.barplot(data=speed_freq, x='年平均车速', y='出险频率')"
   ]
  },
  {
   "attachments": {},
   "cell_type": "markdown",
   "metadata": {},
   "source": [
    "由图可以看出，出险频率随着平均车速的增加而增加，但在100公里每小时后下降"
   ]
  },
  {
   "attachments": {},
   "cell_type": "markdown",
   "metadata": {},
   "source": [
    "#### 1.2.3 出险频率与主要行车时间"
   ]
  },
  {
   "cell_type": "code",
   "execution_count": 12,
   "metadata": {},
   "outputs": [
    {
     "data": {
      "text/plain": [
       "<AxesSubplot:xlabel='主要行车时间', ylabel='出险频率'>"
      ]
     },
     "execution_count": 12,
     "metadata": {},
     "output_type": "execute_result"
    },
    {
     "data": {
      "image/png": "[encoded data removed]",
      "text/plain": [
       "<Figure size 640x480 with 1 Axes>"
      ]
     },
     "metadata": {},
     "output_type": "display_data"
    }
   ],
   "source": [
    "# 聚合取平均\n",
    "time_freq = data.groupby('主要行车时间').mean().reset_index()\n",
    "# 绘制条形图查看年主要行车时间和出险频率的关系\n",
    "sns.barplot(data=time_freq, x='主要行车时间', y='出险频率')"
   ]
  },
  {
   "attachments": {},
   "cell_type": "markdown",
   "metadata": {},
   "source": [
    "由图可以看出，不同时间段出险频率无明显变化"
   ]
  },
  {
   "attachments": {},
   "cell_type": "markdown",
   "metadata": {},
   "source": [
    "#### 1.2.4 出险频率与用车区域"
   ]
  },
  {
   "cell_type": "code",
   "execution_count": 13,
   "metadata": {},
   "outputs": [
    {
     "data": {
      "text/plain": [
       "<AxesSubplot:xlabel='用车区域', ylabel='出险频率'>"
      ]
     },
     "execution_count": 13,
     "metadata": {},
     "output_type": "execute_result"
    },
    {
     "data": {
      "image/png": "[encoded data removed]",
      "text/plain": [
       "<Figure size 640x480 with 1 Axes>"
      ]
     },
     "metadata": {},
     "output_type": "display_data"
    }
   ],
   "source": [
    "# 聚合取平均\n",
    "urban_freq = data.groupby('用车区域').mean().reset_index()\n",
    "# 绘制条形图查看用车区域和出险频率的关系\n",
    "sns.barplot(data=urban_freq, x='用车区域', y='出险频率')"
   ]
  },
  {
   "attachments": {},
   "cell_type": "markdown",
   "metadata": {},
   "source": [
    "由图可以看出，不同区域出险频率无明显变化"
   ]
  },
  {
   "attachments": {},
   "cell_type": "markdown",
   "metadata": {},
   "source": [
    "#### 1.2.5 出险强度与年平均里程"
   ]
  },
  {
   "cell_type": "code",
   "execution_count": 69,
   "metadata": {},
   "outputs": [
    {
     "data": {
      "text/plain": [
       "<AxesSubplot:xlabel='年平均里程', ylabel='出险强度'>"
      ]
     },
     "execution_count": 69,
     "metadata": {},
     "output_type": "execute_result"
    },
    {
     "data": {
      "image/png": "[encoded data removed]",
      "text/plain": [
       "<Figure size 640x480 with 1 Axes>"
      ]
     },
     "metadata": {},
     "output_type": "display_data"
    }
   ],
   "source": [
    "# 聚合取平均并重新排序\n",
    "mile_seve = data.groupby(\"年平均里程\").mean().reset_index()\n",
    "ms_order = ['小于5千', '5千-1万', '1万-1万5', '1万5-2万', '大于2万']\n",
    "mile_seve['年平均里程'] = pd.Categorical(mile_seve['年平均里程'], categories=ms_order)\n",
    "# 绘制条形图查看年平均里程和出险强度的关系\n",
    "sns.barplot(data=mile_seve, x='年平均里程', y='出险强度')"
   ]
  },
  {
   "attachments": {},
   "cell_type": "markdown",
   "metadata": {},
   "source": [
    "由图可以看出，出险强度随里程增长整体呈上升趋势，但不够显著"
   ]
  },
  {
   "attachments": {},
   "cell_type": "markdown",
   "metadata": {},
   "source": [
    "#### 1.2.6 出险强度与年平均车速"
   ]
  },
  {
   "cell_type": "code",
   "execution_count": 70,
   "metadata": {},
   "outputs": [
    {
     "data": {
      "text/plain": [
       "<AxesSubplot:xlabel='年平均车速', ylabel='出险强度'>"
      ]
     },
     "execution_count": 70,
     "metadata": {},
     "output_type": "execute_result"
    },
    {
     "data": {
      "image/png": "[encoded data removed]",
      "text/plain": [
       "<Figure size 640x480 with 1 Axes>"
      ]
     },
     "metadata": {},
     "output_type": "display_data"
    }
   ],
   "source": [
    "# 聚合取平均并重新排序\n",
    "speed_seve = data.groupby('年平均车速').mean().reset_index()\n",
    "ss_order = ['小于40', '40-59', '60-79', '80-99', '大于100']\n",
    "speed_seve['年平均车速'] = pd.Categorical(speed_seve['年平均车速'], categories=ss_order)\n",
    "# 绘制条形图查看年平均车速和出险强度的关系\n",
    "sns.barplot(data=speed_seve, x='年平均车速', y='出险强度')"
   ]
  },
  {
   "attachments": {},
   "cell_type": "markdown",
   "metadata": {},
   "source": [
    "由图可以看出，出险强度随着车速的增加而增加"
   ]
  },
  {
   "attachments": {},
   "cell_type": "markdown",
   "metadata": {},
   "source": [
    "#### 1.2.7 出险强度与主要行车时间"
   ]
  },
  {
   "cell_type": "code",
   "execution_count": 16,
   "metadata": {},
   "outputs": [
    {
     "data": {
      "text/plain": [
       "<AxesSubplot:xlabel='主要行车时间', ylabel='出险强度'>"
      ]
     },
     "execution_count": 16,
     "metadata": {},
     "output_type": "execute_result"
    },
    {
     "data": {
      "image/png": "[encoded data removed]",
      "text/plain": [
       "<Figure size 640x480 with 1 Axes>"
      ]
     },
     "metadata": {},
     "output_type": "display_data"
    }
   ],
   "source": [
    "# 聚合取平均\n",
    "time_seve = data.groupby('主要行车时间').mean().reset_index()\n",
    "# 绘制条形图查看年主要行车时间和出险强度的关系\n",
    "sns.barplot(data=time_seve, x='主要行车时间', y='出险强度')"
   ]
  },
  {
   "attachments": {},
   "cell_type": "markdown",
   "metadata": {},
   "source": [
    "由图可以看出，不同时间段出险强度无明显变化"
   ]
  },
  {
   "attachments": {},
   "cell_type": "markdown",
   "metadata": {},
   "source": [
    "#### 1.2.8 出险强度与用车区域"
   ]
  },
  {
   "cell_type": "code",
   "execution_count": 17,
   "metadata": {},
   "outputs": [
    {
     "data": {
      "text/plain": [
       "<AxesSubplot:xlabel='用车区域', ylabel='出险强度'>"
      ]
     },
     "execution_count": 17,
     "metadata": {},
     "output_type": "execute_result"
    },
    {
     "data": {
      "image/png": "[encoded data removed]",
      "text/plain": [
       "<Figure size 640x480 with 1 Axes>"
      ]
     },
     "metadata": {},
     "output_type": "display_data"
    }
   ],
   "source": [
    "# 聚合取平均\n",
    "urban_seve = data.groupby('用车区域').mean().reset_index()\n",
    "# 绘制条形图查看用车区域和出险强度的关系\n",
    "sns.barplot(data=urban_seve, x='用车区域', y='出险强度')"
   ]
  },
  {
   "attachments": {},
   "cell_type": "markdown",
   "metadata": {},
   "source": [
    "由图可以看出，不同区域出险强度无明显变化"
   ]
  },
  {
   "attachments": {},
   "cell_type": "markdown",
   "metadata": {},
   "source": [
    "根据图像分析结果，我们判断出险频率和出险强度均与年平均里程和年平均车速相关，与主要行车时间和用车区域无关。我们会在后面模型拟合报告中进一步验证我们的判断。"
   ]
  },
  {
   "attachments": {},
   "cell_type": "markdown",
   "metadata": {},
   "source": [
    "## 2. 广义线性模型拟合及模型分析\n",
    "我们将使用`statsmodels`工具库进行广义线性回归，该工具库包含多种统计模型以及其对应的链接函数。"
   ]
  },
  {
   "attachments": {},
   "cell_type": "markdown",
   "metadata": {},
   "source": [
    "### 2.1 对特征值进行预处理\n",
    "由于特征值均为类别变量，我们需要对其进行变换使其能够进行数学计算，其中一种方法是对每一具体类别从小到大编号。但这种方法会抹除每个类别之间的差异性，因此我们选择将包含$n$个类别的类别变量转换为$n-1$个二元分类变量，其又被称为虚拟变量（dummy variable）。因为常数项的存在，我们需要将某种类别定义为基本类别，以避免回归系数没有唯一解（虚拟变量陷阱），因此需转换为$n-1$个虚拟变量。"
   ]
  },
  {
   "cell_type": "code",
   "execution_count": 45,
   "metadata": {},
   "outputs": [
    {
     "data": {
      "text/html": [
       "<div>\n",
       "<style scoped>\n",
       "    .dataframe tbody tr th:only-of-type {\n",
       "        vertical-align: middle;\n",
       "    }\n",
       "\n",
       "    .dataframe tbody tr th {\n",
       "        vertical-align: top;\n",
       "    }\n",
       "\n",
       "    .dataframe thead th {\n",
       "        text-align: right;\n",
       "    }\n",
       "</style>\n",
       "<table border=\"1\" class=\"dataframe\">\n",
       "  <thead>\n",
       "    <tr style=\"text-align: right;\">\n",
       "      <th></th>\n",
       "      <th>const</th>\n",
       "      <th>年平均里程_5千-1万</th>\n",
       "      <th>年平均里程_1万-1万5</th>\n",
       "      <th>年平均里程_1万5-2万</th>\n",
       "      <th>年平均里程_大于2万</th>\n",
       "      <th>年平均车速_40-59</th>\n",
       "      <th>年平均车速_60-79</th>\n",
       "      <th>年平均车速_80-99</th>\n",
       "      <th>年平均车速_大于100</th>\n",
       "      <th>主要行车时间_日间</th>\n",
       "      <th>用车区域_城镇</th>\n",
       "    </tr>\n",
       "  </thead>\n",
       "  <tbody>\n",
       "    <tr>\n",
       "      <th>0</th>\n",
       "      <td>1.0</td>\n",
       "      <td>1</td>\n",
       "      <td>0</td>\n",
       "      <td>0</td>\n",
       "      <td>0</td>\n",
       "      <td>0</td>\n",
       "      <td>1</td>\n",
       "      <td>0</td>\n",
       "      <td>0</td>\n",
       "      <td>1</td>\n",
       "      <td>1</td>\n",
       "    </tr>\n",
       "    <tr>\n",
       "      <th>1</th>\n",
       "      <td>1.0</td>\n",
       "      <td>0</td>\n",
       "      <td>0</td>\n",
       "      <td>0</td>\n",
       "      <td>0</td>\n",
       "      <td>0</td>\n",
       "      <td>1</td>\n",
       "      <td>0</td>\n",
       "      <td>0</td>\n",
       "      <td>1</td>\n",
       "      <td>1</td>\n",
       "    </tr>\n",
       "    <tr>\n",
       "      <th>2</th>\n",
       "      <td>1.0</td>\n",
       "      <td>0</td>\n",
       "      <td>1</td>\n",
       "      <td>0</td>\n",
       "      <td>0</td>\n",
       "      <td>0</td>\n",
       "      <td>1</td>\n",
       "      <td>0</td>\n",
       "      <td>0</td>\n",
       "      <td>0</td>\n",
       "      <td>1</td>\n",
       "    </tr>\n",
       "    <tr>\n",
       "      <th>3</th>\n",
       "      <td>1.0</td>\n",
       "      <td>0</td>\n",
       "      <td>0</td>\n",
       "      <td>1</td>\n",
       "      <td>0</td>\n",
       "      <td>0</td>\n",
       "      <td>0</td>\n",
       "      <td>1</td>\n",
       "      <td>0</td>\n",
       "      <td>0</td>\n",
       "      <td>1</td>\n",
       "    </tr>\n",
       "    <tr>\n",
       "      <th>4</th>\n",
       "      <td>1.0</td>\n",
       "      <td>0</td>\n",
       "      <td>0</td>\n",
       "      <td>0</td>\n",
       "      <td>0</td>\n",
       "      <td>0</td>\n",
       "      <td>0</td>\n",
       "      <td>0</td>\n",
       "      <td>0</td>\n",
       "      <td>1</td>\n",
       "      <td>1</td>\n",
       "    </tr>\n",
       "  </tbody>\n",
       "</table>\n",
       "</div>"
      ],
      "text/plain": [
       "   const  年平均里程_5千-1万  年平均里程_1万-1万5  年平均里程_1万5-2万  年平均里程_大于2万  年平均车速_40-59  \\\n",
       "0    1.0            1             0             0           0            0   \n",
       "1    1.0            0             0             0           0            0   \n",
       "2    1.0            0             1             0           0            0   \n",
       "3    1.0            0             0             1           0            0   \n",
       "4    1.0            0             0             0           0            0   \n",
       "\n",
       "   年平均车速_60-79  年平均车速_80-99  年平均车速_大于100  主要行车时间_日间  用车区域_城镇  \n",
       "0            1            0            0          1        1  \n",
       "1            1            0            0          1        1  \n",
       "2            1            0            0          0        1  \n",
       "3            0            1            0          0        1  \n",
       "4            0            0            0          1        1  "
      ]
     },
     "metadata": {},
     "output_type": "display_data"
    }
   ],
   "source": [
    "# 声明年平均里程和年平均车速的类别顺序\n",
    "mile_order = ['小于5千', '5千-1万', '1万-1万5', '1万5-2万', '大于2万']\n",
    "speed_order = ['小于40', '40-59', '60-79', '80-99', '大于100']\n",
    "data['年平均里程'] = pd.Categorical(data['年平均里程'], categories=mile_order)\n",
    "data['年平均车速'] = pd.Categorical(data['年平均车速'], categories=speed_order)\n",
    "# 提取特征值\n",
    "features = data[['年平均里程', '年平均车速', '主要行车时间', '用车区域']]\n",
    "# statsmodels在回归中不会自动引入常数项，需手动添加一列1让其计算常数项\n",
    "# 该列名称为const\n",
    "features = sm.add_constant(features)\n",
    "# 使用get_dummies将所有类别变量转换为虚拟变量\n",
    "# drop_first=True使其只保留n-1个虚拟变量\n",
    "features = pd.get_dummies(features, drop_first=True)\n",
    "# 查看前5行\n",
    "display(features.head(5))\n",
    "# 提取目标值\n",
    "t_freq = data['出险频率']\n",
    "t_seve = data['出险强度']"
   ]
  },
  {
   "attachments": {},
   "cell_type": "markdown",
   "metadata": {},
   "source": [
    "### 2.2 出险频率模型拟合\n",
    "由于出险次数是非负的离散随机变量，所以模型中采用泊松分布来进行拟合。泊松分布的生产机理为：<br>\n",
    "1)在很小的时间区间$(t, t + dt)$内，发生一次出险的概率与时间区间的长度近似成正比，即近似为$ldt$。<br>\n",
    "2)在很小的时间区间$(t, t + dt)$内，发生两次及其以上出险的概率几乎为零。<br>\n",
    "3)在不相交的两个时间区间发生的出险次数相互独立。<br>\n",
    "在车险定价研究中常用的链接函数为对数函数。该链接函数结构比较简单，而且当前汽车保险广泛采用加法和乘法模型，对数函数很容易实现这种变换。`statsmodels`中泊松模型的预设链接函数为对数函数，因此我们不需专门声明。"
   ]
  },
  {
   "cell_type": "code",
   "execution_count": 46,
   "metadata": {},
   "outputs": [
    {
     "data": {
      "text/html": [
       "<table class=\"simpletable\">\n",
       "<caption>Generalized Linear Model Regression Results</caption>\n",
       "<tr>\n",
       "  <th>Dep. Variable:</th>         <td>出险频率</td>       <th>  No. Observations:  </th>  <td> 10302</td> \n",
       "</tr>\n",
       "<tr>\n",
       "  <th>Model:</th>                  <td>GLM</td>       <th>  Df Residuals:      </th>  <td> 10291</td> \n",
       "</tr>\n",
       "<tr>\n",
       "  <th>Model Family:</th>         <td>Poisson</td>     <th>  Df Model:          </th>  <td>    10</td> \n",
       "</tr>\n",
       "<tr>\n",
       "  <th>Link Function:</th>          <td>Log</td>       <th>  Scale:             </th> <td>  1.0000</td>\n",
       "</tr>\n",
       "<tr>\n",
       "  <th>Method:</th>                <td>IRLS</td>       <th>  Log-Likelihood:    </th> <td> -15221.</td>\n",
       "</tr>\n",
       "<tr>\n",
       "  <th>Date:</th>            <td>Sat, 08 Jul 2023</td> <th>  Deviance:          </th> <td>  11573.</td>\n",
       "</tr>\n",
       "<tr>\n",
       "  <th>Time:</th>                <td>06:44:07</td>     <th>  Pearson chi2:      </th> <td>1.03e+04</td>\n",
       "</tr>\n",
       "<tr>\n",
       "  <th>No. Iterations:</th>          <td>5</td>        <th>  Pseudo R-squ. (CS):</th>  <td>0.4253</td> \n",
       "</tr>\n",
       "<tr>\n",
       "  <th>Covariance Type:</th>     <td>nonrobust</td>    <th>                     </th>     <td> </td>   \n",
       "</tr>\n",
       "</table>\n",
       "<table class=\"simpletable\">\n",
       "<tr>\n",
       "        <td></td>          <th>coef</th>     <th>std err</th>      <th>z</th>      <th>P>|z|</th>  <th>[0.025</th>    <th>0.975]</th>  \n",
       "</tr>\n",
       "<tr>\n",
       "  <th>const</th>        <td>   -0.7378</td> <td>    0.039</td> <td>  -18.965</td> <td> 0.000</td> <td>   -0.814</td> <td>   -0.662</td>\n",
       "</tr>\n",
       "<tr>\n",
       "  <th>年平均里程_5千-1万</th>  <td>    0.2837</td> <td>    0.035</td> <td>    8.051</td> <td> 0.000</td> <td>    0.215</td> <td>    0.353</td>\n",
       "</tr>\n",
       "<tr>\n",
       "  <th>年平均里程_1万-1万5</th> <td>    0.6032</td> <td>    0.033</td> <td>   18.184</td> <td> 0.000</td> <td>    0.538</td> <td>    0.668</td>\n",
       "</tr>\n",
       "<tr>\n",
       "  <th>年平均里程_1万5-2万</th> <td>    0.9679</td> <td>    0.033</td> <td>   29.049</td> <td> 0.000</td> <td>    0.903</td> <td>    1.033</td>\n",
       "</tr>\n",
       "<tr>\n",
       "  <th>年平均里程_大于2万</th>   <td>    1.5975</td> <td>    0.034</td> <td>   47.416</td> <td> 0.000</td> <td>    1.531</td> <td>    1.664</td>\n",
       "</tr>\n",
       "<tr>\n",
       "  <th>年平均车速_40-59</th>  <td>    0.4758</td> <td>    0.023</td> <td>   20.966</td> <td> 0.000</td> <td>    0.431</td> <td>    0.520</td>\n",
       "</tr>\n",
       "<tr>\n",
       "  <th>年平均车速_60-79</th>  <td>    0.7798</td> <td>    0.024</td> <td>   32.613</td> <td> 0.000</td> <td>    0.733</td> <td>    0.827</td>\n",
       "</tr>\n",
       "<tr>\n",
       "  <th>年平均车速_80-99</th>  <td>    0.9919</td> <td>    0.027</td> <td>   36.569</td> <td> 0.000</td> <td>    0.939</td> <td>    1.045</td>\n",
       "</tr>\n",
       "<tr>\n",
       "  <th>年平均车速_大于100</th>  <td>    0.7203</td> <td>    0.036</td> <td>   20.077</td> <td> 0.000</td> <td>    0.650</td> <td>    0.791</td>\n",
       "</tr>\n",
       "<tr>\n",
       "  <th>主要行车时间_日间</th>    <td>   -0.0144</td> <td>    0.016</td> <td>   -0.879</td> <td> 0.379</td> <td>   -0.046</td> <td>    0.018</td>\n",
       "</tr>\n",
       "<tr>\n",
       "  <th>用车区域_城镇</th>      <td>   -0.0169</td> <td>    0.019</td> <td>   -0.880</td> <td> 0.379</td> <td>   -0.055</td> <td>    0.021</td>\n",
       "</tr>\n",
       "</table>"
      ],
      "text/plain": [
       "<class 'statsmodels.iolib.summary.Summary'>\n",
       "\"\"\"\n",
       "                 Generalized Linear Model Regression Results                  \n",
       "==============================================================================\n",
       "Dep. Variable:                   出险频率   No. Observations:                10302\n",
       "Model:                            GLM   Df Residuals:                    10291\n",
       "Model Family:                 Poisson   Df Model:                           10\n",
       "Link Function:                    Log   Scale:                          1.0000\n",
       "Method:                          IRLS   Log-Likelihood:                -15221.\n",
       "Date:                Sat, 08 Jul 2023   Deviance:                       11573.\n",
       "Time:                        06:44:07   Pearson chi2:                 1.03e+04\n",
       "No. Iterations:                     5   Pseudo R-squ. (CS):             0.4253\n",
       "Covariance Type:            nonrobust                                         \n",
       "================================================================================\n",
       "                   coef    std err          z      P>|z|      [0.025      0.975]\n",
       "--------------------------------------------------------------------------------\n",
       "const           -0.7378      0.039    -18.965      0.000      -0.814      -0.662\n",
       "年平均里程_5千-1万      0.2837      0.035      8.051      0.000       0.215       0.353\n",
       "年平均里程_1万-1万5     0.6032      0.033     18.184      0.000       0.538       0.668\n",
       "年平均里程_1万5-2万     0.9679      0.033     29.049      0.000       0.903       1.033\n",
       "年平均里程_大于2万       1.5975      0.034     47.416      0.000       1.531       1.664\n",
       "年平均车速_40-59      0.4758      0.023     20.966      0.000       0.431       0.520\n",
       "年平均车速_60-79      0.7798      0.024     32.613      0.000       0.733       0.827\n",
       "年平均车速_80-99      0.9919      0.027     36.569      0.000       0.939       1.045\n",
       "年平均车速_大于100      0.7203      0.036     20.077      0.000       0.650       0.791\n",
       "主要行车时间_日间       -0.0144      0.016     -0.879      0.379      -0.046       0.018\n",
       "用车区域_城镇         -0.0169      0.019     -0.880      0.379      -0.055       0.021\n",
       "================================================================================\n",
       "\"\"\""
      ]
     },
     "execution_count": 46,
     "metadata": {},
     "output_type": "execute_result"
    }
   ],
   "source": [
    "# 使用statsmodels.GLM()进行广义线性回归\n",
    "# 第一个输入变量为目标值，第二个输入变量为特征值，family声明数据的分布模型\n",
    "# fit()进行拟合\n",
    "freq_glm = sm.GLM(t_freq, features, family=sm.families.Poisson()).fit()\n",
    "# 使用summary()查看拟合结果\n",
    "freq_glm.summary()"
   ]
  },
  {
   "attachments": {},
   "cell_type": "markdown",
   "metadata": {},
   "source": [
    "在回归报告中，`coef`一栏可以得到某一类别的系数，`std err`一栏可以得到该系数的标准差，`P>|z|`一栏代表该系数对应的P值。一般P值小于0.05，我们就认为该系数足够显著，从而得出对应特征与目标值高度相关。<br>\n",
    "该回归报告指出`主要行车时间_日间`和`用车区域_城镇`两项P值大于0.05，说明`主要行车时间`和`用车区域`与出险频率没有显著相关性，与我们先前图像分析相符。其余特征均足够显著相关。"
   ]
  },
  {
   "attachments": {},
   "cell_type": "markdown",
   "metadata": {},
   "source": [
    "### 2.3 出险强度模型拟合\n",
    "由于出险强度的分布通常为右偏的，因此模型使用伽玛分布来拟合。`statsmodels`中伽马模型的预设链接函数为负倒数函数，因此我们需专门声明链接函数为对数函数。"
   ]
  },
  {
   "cell_type": "code",
   "execution_count": 47,
   "metadata": {},
   "outputs": [
    {
     "data": {
      "text/html": [
       "<table class=\"simpletable\">\n",
       "<caption>Generalized Linear Model Regression Results</caption>\n",
       "<tr>\n",
       "  <th>Dep. Variable:</th>         <td>出险强度</td>       <th>  No. Observations:  </th>  <td> 10302</td> \n",
       "</tr>\n",
       "<tr>\n",
       "  <th>Model:</th>                  <td>GLM</td>       <th>  Df Residuals:      </th>  <td> 10291</td> \n",
       "</tr>\n",
       "<tr>\n",
       "  <th>Model Family:</th>          <td>Gamma</td>      <th>  Df Model:          </th>  <td>    10</td> \n",
       "</tr>\n",
       "<tr>\n",
       "  <th>Link Function:</th>          <td>log</td>       <th>  Scale:             </th> <td> 0.99908</td>\n",
       "</tr>\n",
       "<tr>\n",
       "  <th>Method:</th>                <td>IRLS</td>       <th>  Log-Likelihood:    </th> <td>     inf</td>\n",
       "</tr>\n",
       "<tr>\n",
       "  <th>Date:</th>            <td>Sat, 08 Jul 2023</td> <th>  Deviance:          </th> <td>  12615.</td>\n",
       "</tr>\n",
       "<tr>\n",
       "  <th>Time:</th>                <td>06:44:10</td>     <th>  Pearson chi2:      </th> <td>1.03e+04</td>\n",
       "</tr>\n",
       "<tr>\n",
       "  <th>No. Iterations:</th>         <td>10</td>        <th>  Pseudo R-squ. (CS):</th>  <td>   nan</td> \n",
       "</tr>\n",
       "<tr>\n",
       "  <th>Covariance Type:</th>     <td>nonrobust</td>    <th>                     </th>     <td> </td>   \n",
       "</tr>\n",
       "</table>\n",
       "<table class=\"simpletable\">\n",
       "<tr>\n",
       "        <td></td>          <th>coef</th>     <th>std err</th>      <th>z</th>      <th>P>|z|</th>  <th>[0.025</th>    <th>0.975]</th>  \n",
       "</tr>\n",
       "<tr>\n",
       "  <th>const</th>        <td>    5.9014</td> <td>    0.039</td> <td>  152.606</td> <td> 0.000</td> <td>    5.826</td> <td>    5.977</td>\n",
       "</tr>\n",
       "<tr>\n",
       "  <th>年平均里程_5千-1万</th>  <td>    0.4561</td> <td>    0.033</td> <td>   14.020</td> <td> 0.000</td> <td>    0.392</td> <td>    0.520</td>\n",
       "</tr>\n",
       "<tr>\n",
       "  <th>年平均里程_1万-1万5</th> <td>    0.2782</td> <td>    0.032</td> <td>    8.794</td> <td> 0.000</td> <td>    0.216</td> <td>    0.340</td>\n",
       "</tr>\n",
       "<tr>\n",
       "  <th>年平均里程_1万5-2万</th> <td>    0.3217</td> <td>    0.034</td> <td>    9.444</td> <td> 0.000</td> <td>    0.255</td> <td>    0.388</td>\n",
       "</tr>\n",
       "<tr>\n",
       "  <th>年平均里程_大于2万</th>   <td>    0.5563</td> <td>    0.041</td> <td>   13.553</td> <td> 0.000</td> <td>    0.476</td> <td>    0.637</td>\n",
       "</tr>\n",
       "<tr>\n",
       "  <th>年平均车速_40-59</th>  <td>    0.3065</td> <td>    0.024</td> <td>   12.569</td> <td> 0.000</td> <td>    0.259</td> <td>    0.354</td>\n",
       "</tr>\n",
       "<tr>\n",
       "  <th>年平均车速_60-79</th>  <td>    0.7283</td> <td>    0.028</td> <td>   25.632</td> <td> 0.000</td> <td>    0.673</td> <td>    0.784</td>\n",
       "</tr>\n",
       "<tr>\n",
       "  <th>年平均车速_80-99</th>  <td>    1.2277</td> <td>    0.037</td> <td>   33.614</td> <td> 0.000</td> <td>    1.156</td> <td>    1.299</td>\n",
       "</tr>\n",
       "<tr>\n",
       "  <th>年平均车速_大于100</th>  <td>    1.9777</td> <td>    0.047</td> <td>   41.638</td> <td> 0.000</td> <td>    1.885</td> <td>    2.071</td>\n",
       "</tr>\n",
       "<tr>\n",
       "  <th>主要行车时间_日间</th>    <td>   -0.0121</td> <td>    0.021</td> <td>   -0.583</td> <td> 0.560</td> <td>   -0.053</td> <td>    0.028</td>\n",
       "</tr>\n",
       "<tr>\n",
       "  <th>用车区域_城镇</th>      <td>   -0.0174</td> <td>    0.025</td> <td>   -0.709</td> <td> 0.478</td> <td>   -0.066</td> <td>    0.031</td>\n",
       "</tr>\n",
       "</table>"
      ],
      "text/plain": [
       "<class 'statsmodels.iolib.summary.Summary'>\n",
       "\"\"\"\n",
       "                 Generalized Linear Model Regression Results                  \n",
       "==============================================================================\n",
       "Dep. Variable:                   出险强度   No. Observations:                10302\n",
       "Model:                            GLM   Df Residuals:                    10291\n",
       "Model Family:                   Gamma   Df Model:                           10\n",
       "Link Function:                    log   Scale:                         0.99908\n",
       "Method:                          IRLS   Log-Likelihood:                    inf\n",
       "Date:                Sat, 08 Jul 2023   Deviance:                       12615.\n",
       "Time:                        06:44:10   Pearson chi2:                 1.03e+04\n",
       "No. Iterations:                    10   Pseudo R-squ. (CS):                nan\n",
       "Covariance Type:            nonrobust                                         \n",
       "================================================================================\n",
       "                   coef    std err          z      P>|z|      [0.025      0.975]\n",
       "--------------------------------------------------------------------------------\n",
       "const            5.9014      0.039    152.606      0.000       5.826       5.977\n",
       "年平均里程_5千-1万      0.4561      0.033     14.020      0.000       0.392       0.520\n",
       "年平均里程_1万-1万5     0.2782      0.032      8.794      0.000       0.216       0.340\n",
       "年平均里程_1万5-2万     0.3217      0.034      9.444      0.000       0.255       0.388\n",
       "年平均里程_大于2万       0.5563      0.041     13.553      0.000       0.476       0.637\n",
       "年平均车速_40-59      0.3065      0.024     12.569      0.000       0.259       0.354\n",
       "年平均车速_60-79      0.7283      0.028     25.632      0.000       0.673       0.784\n",
       "年平均车速_80-99      1.2277      0.037     33.614      0.000       1.156       1.299\n",
       "年平均车速_大于100      1.9777      0.047     41.638      0.000       1.885       2.071\n",
       "主要行车时间_日间       -0.0121      0.021     -0.583      0.560      -0.053       0.028\n",
       "用车区域_城镇         -0.0174      0.025     -0.709      0.478      -0.066       0.031\n",
       "================================================================================\n",
       "\"\"\""
      ]
     },
     "execution_count": 47,
     "metadata": {},
     "output_type": "execute_result"
    }
   ],
   "source": [
    "# 使用statsmodels.GLM()进行广义线性回归\n",
    "# link声明链接函数的类型\n",
    "sever_glm = sm.GLM(t_seve, features, family=sm.families.Gamma(link=sm.families.links.log())).fit()\n",
    "# 使用summary()查看拟合结果\n",
    "sever_glm.summary()"
   ]
  },
  {
   "attachments": {},
   "cell_type": "markdown",
   "metadata": {},
   "source": [
    "该回归报告指出`主要行车时间_日间`和`用车区域_城镇`两项P值大于0.05，说明`主要行车时间`和`用车区域`与出险强度没有显著相关性，与我们先前图像分析相符。其余特征均足够显著相关。\n",
    "根据图像分析和回归报告，我们判断`主要行车时间`和`用车区域`两项与出险频率和出险强度均无明显相关性，因此将其从模型中剔除并重新拟合"
   ]
  },
  {
   "attachments": {},
   "cell_type": "markdown",
   "metadata": {},
   "source": [
    "### 2.4 最终模型"
   ]
  },
  {
   "cell_type": "code",
   "execution_count": 50,
   "metadata": {},
   "outputs": [
    {
     "data": {
      "text/html": [
       "<div>\n",
       "<style scoped>\n",
       "    .dataframe tbody tr th:only-of-type {\n",
       "        vertical-align: middle;\n",
       "    }\n",
       "\n",
       "    .dataframe tbody tr th {\n",
       "        vertical-align: top;\n",
       "    }\n",
       "\n",
       "    .dataframe thead th {\n",
       "        text-align: right;\n",
       "    }\n",
       "</style>\n",
       "<table border=\"1\" class=\"dataframe\">\n",
       "  <thead>\n",
       "    <tr style=\"text-align: right;\">\n",
       "      <th></th>\n",
       "      <th>const</th>\n",
       "      <th>年平均里程_5千-1万</th>\n",
       "      <th>年平均里程_1万-1万5</th>\n",
       "      <th>年平均里程_1万5-2万</th>\n",
       "      <th>年平均里程_大于2万</th>\n",
       "      <th>年平均车速_40-59</th>\n",
       "      <th>年平均车速_60-79</th>\n",
       "      <th>年平均车速_80-99</th>\n",
       "      <th>年平均车速_大于100</th>\n",
       "    </tr>\n",
       "  </thead>\n",
       "  <tbody>\n",
       "    <tr>\n",
       "      <th>0</th>\n",
       "      <td>1.0</td>\n",
       "      <td>1</td>\n",
       "      <td>0</td>\n",
       "      <td>0</td>\n",
       "      <td>0</td>\n",
       "      <td>0</td>\n",
       "      <td>1</td>\n",
       "      <td>0</td>\n",
       "      <td>0</td>\n",
       "    </tr>\n",
       "    <tr>\n",
       "      <th>1</th>\n",
       "      <td>1.0</td>\n",
       "      <td>0</td>\n",
       "      <td>0</td>\n",
       "      <td>0</td>\n",
       "      <td>0</td>\n",
       "      <td>0</td>\n",
       "      <td>1</td>\n",
       "      <td>0</td>\n",
       "      <td>0</td>\n",
       "    </tr>\n",
       "    <tr>\n",
       "      <th>2</th>\n",
       "      <td>1.0</td>\n",
       "      <td>0</td>\n",
       "      <td>1</td>\n",
       "      <td>0</td>\n",
       "      <td>0</td>\n",
       "      <td>0</td>\n",
       "      <td>1</td>\n",
       "      <td>0</td>\n",
       "      <td>0</td>\n",
       "    </tr>\n",
       "    <tr>\n",
       "      <th>3</th>\n",
       "      <td>1.0</td>\n",
       "      <td>0</td>\n",
       "      <td>0</td>\n",
       "      <td>1</td>\n",
       "      <td>0</td>\n",
       "      <td>0</td>\n",
       "      <td>0</td>\n",
       "      <td>1</td>\n",
       "      <td>0</td>\n",
       "    </tr>\n",
       "    <tr>\n",
       "      <th>4</th>\n",
       "      <td>1.0</td>\n",
       "      <td>0</td>\n",
       "      <td>0</td>\n",
       "      <td>0</td>\n",
       "      <td>0</td>\n",
       "      <td>0</td>\n",
       "      <td>0</td>\n",
       "      <td>0</td>\n",
       "      <td>0</td>\n",
       "    </tr>\n",
       "  </tbody>\n",
       "</table>\n",
       "</div>"
      ],
      "text/plain": [
       "   const  年平均里程_5千-1万  年平均里程_1万-1万5  年平均里程_1万5-2万  年平均里程_大于2万  年平均车速_40-59  \\\n",
       "0    1.0            1             0             0           0            0   \n",
       "1    1.0            0             0             0           0            0   \n",
       "2    1.0            0             1             0           0            0   \n",
       "3    1.0            0             0             1           0            0   \n",
       "4    1.0            0             0             0           0            0   \n",
       "\n",
       "   年平均车速_60-79  年平均车速_80-99  年平均车速_大于100  \n",
       "0            1            0            0  \n",
       "1            1            0            0  \n",
       "2            1            0            0  \n",
       "3            0            1            0  \n",
       "4            0            0            0  "
      ]
     },
     "metadata": {},
     "output_type": "display_data"
    }
   ],
   "source": [
    "# 提取特征值\n",
    "features_f = data[['年平均里程', '年平均车速']]\n",
    "# 加入常数项\n",
    "features_f = sm.add_constant(features_f)\n",
    "# 转换为虚拟变量\n",
    "features_f = pd.get_dummies(features_f, drop_first=True)\n",
    "# 查看前5行\n",
    "display(features_f.head(5))"
   ]
  },
  {
   "cell_type": "code",
   "execution_count": 51,
   "metadata": {},
   "outputs": [
    {
     "data": {
      "text/html": [
       "<table class=\"simpletable\">\n",
       "<caption>Generalized Linear Model Regression Results</caption>\n",
       "<tr>\n",
       "  <th>Dep. Variable:</th>         <td>出险频率</td>       <th>  No. Observations:  </th>  <td> 10302</td> \n",
       "</tr>\n",
       "<tr>\n",
       "  <th>Model:</th>                  <td>GLM</td>       <th>  Df Residuals:      </th>  <td> 10293</td> \n",
       "</tr>\n",
       "<tr>\n",
       "  <th>Model Family:</th>         <td>Poisson</td>     <th>  Df Model:          </th>  <td>     8</td> \n",
       "</tr>\n",
       "<tr>\n",
       "  <th>Link Function:</th>          <td>Log</td>       <th>  Scale:             </th> <td>  1.0000</td>\n",
       "</tr>\n",
       "<tr>\n",
       "  <th>Method:</th>                <td>IRLS</td>       <th>  Log-Likelihood:    </th> <td> -15222.</td>\n",
       "</tr>\n",
       "<tr>\n",
       "  <th>Date:</th>            <td>Sat, 08 Jul 2023</td> <th>  Deviance:          </th> <td>  11575.</td>\n",
       "</tr>\n",
       "<tr>\n",
       "  <th>Time:</th>                <td>06:44:46</td>     <th>  Pearson chi2:      </th> <td>1.03e+04</td>\n",
       "</tr>\n",
       "<tr>\n",
       "  <th>No. Iterations:</th>          <td>5</td>        <th>  Pseudo R-squ. (CS):</th>  <td>0.4253</td> \n",
       "</tr>\n",
       "<tr>\n",
       "  <th>Covariance Type:</th>     <td>nonrobust</td>    <th>                     </th>     <td> </td>   \n",
       "</tr>\n",
       "</table>\n",
       "<table class=\"simpletable\">\n",
       "<tr>\n",
       "        <td></td>          <th>coef</th>     <th>std err</th>      <th>z</th>      <th>P>|z|</th>  <th>[0.025</th>    <th>0.975]</th>  \n",
       "</tr>\n",
       "<tr>\n",
       "  <th>const</th>        <td>   -0.7613</td> <td>    0.034</td> <td>  -22.491</td> <td> 0.000</td> <td>   -0.828</td> <td>   -0.695</td>\n",
       "</tr>\n",
       "<tr>\n",
       "  <th>年平均里程_5千-1万</th>  <td>    0.2841</td> <td>    0.035</td> <td>    8.061</td> <td> 0.000</td> <td>    0.215</td> <td>    0.353</td>\n",
       "</tr>\n",
       "<tr>\n",
       "  <th>年平均里程_1万-1万5</th> <td>    0.6037</td> <td>    0.033</td> <td>   18.199</td> <td> 0.000</td> <td>    0.539</td> <td>    0.669</td>\n",
       "</tr>\n",
       "<tr>\n",
       "  <th>年平均里程_1万5-2万</th> <td>    0.9683</td> <td>    0.033</td> <td>   29.065</td> <td> 0.000</td> <td>    0.903</td> <td>    1.034</td>\n",
       "</tr>\n",
       "<tr>\n",
       "  <th>年平均里程_大于2万</th>   <td>    1.5981</td> <td>    0.034</td> <td>   47.440</td> <td> 0.000</td> <td>    1.532</td> <td>    1.664</td>\n",
       "</tr>\n",
       "<tr>\n",
       "  <th>年平均车速_40-59</th>  <td>    0.4759</td> <td>    0.023</td> <td>   20.970</td> <td> 0.000</td> <td>    0.431</td> <td>    0.520</td>\n",
       "</tr>\n",
       "<tr>\n",
       "  <th>年平均车速_60-79</th>  <td>    0.7804</td> <td>    0.024</td> <td>   32.645</td> <td> 0.000</td> <td>    0.734</td> <td>    0.827</td>\n",
       "</tr>\n",
       "<tr>\n",
       "  <th>年平均车速_80-99</th>  <td>    0.9920</td> <td>    0.027</td> <td>   36.577</td> <td> 0.000</td> <td>    0.939</td> <td>    1.045</td>\n",
       "</tr>\n",
       "<tr>\n",
       "  <th>年平均车速_大于100</th>  <td>    0.7209</td> <td>    0.036</td> <td>   20.098</td> <td> 0.000</td> <td>    0.651</td> <td>    0.791</td>\n",
       "</tr>\n",
       "</table>"
      ],
      "text/plain": [
       "<class 'statsmodels.iolib.summary.Summary'>\n",
       "\"\"\"\n",
       "                 Generalized Linear Model Regression Results                  \n",
       "==============================================================================\n",
       "Dep. Variable:                   出险频率   No. Observations:                10302\n",
       "Model:                            GLM   Df Residuals:                    10293\n",
       "Model Family:                 Poisson   Df Model:                            8\n",
       "Link Function:                    Log   Scale:                          1.0000\n",
       "Method:                          IRLS   Log-Likelihood:                -15222.\n",
       "Date:                Sat, 08 Jul 2023   Deviance:                       11575.\n",
       "Time:                        06:44:46   Pearson chi2:                 1.03e+04\n",
       "No. Iterations:                     5   Pseudo R-squ. (CS):             0.4253\n",
       "Covariance Type:            nonrobust                                         \n",
       "================================================================================\n",
       "                   coef    std err          z      P>|z|      [0.025      0.975]\n",
       "--------------------------------------------------------------------------------\n",
       "const           -0.7613      0.034    -22.491      0.000      -0.828      -0.695\n",
       "年平均里程_5千-1万      0.2841      0.035      8.061      0.000       0.215       0.353\n",
       "年平均里程_1万-1万5     0.6037      0.033     18.199      0.000       0.539       0.669\n",
       "年平均里程_1万5-2万     0.9683      0.033     29.065      0.000       0.903       1.034\n",
       "年平均里程_大于2万       1.5981      0.034     47.440      0.000       1.532       1.664\n",
       "年平均车速_40-59      0.4759      0.023     20.970      0.000       0.431       0.520\n",
       "年平均车速_60-79      0.7804      0.024     32.645      0.000       0.734       0.827\n",
       "年平均车速_80-99      0.9920      0.027     36.577      0.000       0.939       1.045\n",
       "年平均车速_大于100      0.7209      0.036     20.098      0.000       0.651       0.791\n",
       "================================================================================\n",
       "\"\"\""
      ]
     },
     "execution_count": 51,
     "metadata": {},
     "output_type": "execute_result"
    }
   ],
   "source": [
    "# 出险频率模型\n",
    "freq_f_glm = sm.GLM(t_freq, features_f, family=sm.families.Poisson()).fit()\n",
    "# 使用summary()查看拟合结果\n",
    "freq_f_glm.summary()"
   ]
  },
  {
   "cell_type": "code",
   "execution_count": 52,
   "metadata": {},
   "outputs": [
    {
     "data": {
      "text/html": [
       "<table class=\"simpletable\">\n",
       "<caption>Generalized Linear Model Regression Results</caption>\n",
       "<tr>\n",
       "  <th>Dep. Variable:</th>         <td>出险强度</td>       <th>  No. Observations:  </th>  <td> 10302</td> \n",
       "</tr>\n",
       "<tr>\n",
       "  <th>Model:</th>                  <td>GLM</td>       <th>  Df Residuals:      </th>  <td> 10293</td> \n",
       "</tr>\n",
       "<tr>\n",
       "  <th>Model Family:</th>          <td>Gamma</td>      <th>  Df Model:          </th>  <td>     8</td> \n",
       "</tr>\n",
       "<tr>\n",
       "  <th>Link Function:</th>          <td>log</td>       <th>  Scale:             </th> <td> 0.99940</td>\n",
       "</tr>\n",
       "<tr>\n",
       "  <th>Method:</th>                <td>IRLS</td>       <th>  Log-Likelihood:    </th> <td>     inf</td>\n",
       "</tr>\n",
       "<tr>\n",
       "  <th>Date:</th>            <td>Sat, 08 Jul 2023</td> <th>  Deviance:          </th> <td>  12616.</td>\n",
       "</tr>\n",
       "<tr>\n",
       "  <th>Time:</th>                <td>06:44:52</td>     <th>  Pearson chi2:      </th> <td>1.03e+04</td>\n",
       "</tr>\n",
       "<tr>\n",
       "  <th>No. Iterations:</th>         <td>10</td>        <th>  Pseudo R-squ. (CS):</th>  <td>   nan</td> \n",
       "</tr>\n",
       "<tr>\n",
       "  <th>Covariance Type:</th>     <td>nonrobust</td>    <th>                     </th>     <td> </td>   \n",
       "</tr>\n",
       "</table>\n",
       "<table class=\"simpletable\">\n",
       "<tr>\n",
       "        <td></td>          <th>coef</th>     <th>std err</th>      <th>z</th>      <th>P>|z|</th>  <th>[0.025</th>    <th>0.975]</th>  \n",
       "</tr>\n",
       "<tr>\n",
       "  <th>const</th>        <td>    5.8792</td> <td>    0.030</td> <td>  196.369</td> <td> 0.000</td> <td>    5.820</td> <td>    5.938</td>\n",
       "</tr>\n",
       "<tr>\n",
       "  <th>年平均里程_5千-1万</th>  <td>    0.4566</td> <td>    0.033</td> <td>   14.035</td> <td> 0.000</td> <td>    0.393</td> <td>    0.520</td>\n",
       "</tr>\n",
       "<tr>\n",
       "  <th>年平均里程_1万-1万5</th> <td>    0.2789</td> <td>    0.032</td> <td>    8.817</td> <td> 0.000</td> <td>    0.217</td> <td>    0.341</td>\n",
       "</tr>\n",
       "<tr>\n",
       "  <th>年平均里程_1万5-2万</th> <td>    0.3219</td> <td>    0.034</td> <td>    9.450</td> <td> 0.000</td> <td>    0.255</td> <td>    0.389</td>\n",
       "</tr>\n",
       "<tr>\n",
       "  <th>年平均里程_大于2万</th>   <td>    0.5572</td> <td>    0.041</td> <td>   13.577</td> <td> 0.000</td> <td>    0.477</td> <td>    0.638</td>\n",
       "</tr>\n",
       "<tr>\n",
       "  <th>年平均车速_40-59</th>  <td>    0.3061</td> <td>    0.024</td> <td>   12.551</td> <td> 0.000</td> <td>    0.258</td> <td>    0.354</td>\n",
       "</tr>\n",
       "<tr>\n",
       "  <th>年平均车速_60-79</th>  <td>    0.7286</td> <td>    0.028</td> <td>   25.641</td> <td> 0.000</td> <td>    0.673</td> <td>    0.784</td>\n",
       "</tr>\n",
       "<tr>\n",
       "  <th>年平均车速_80-99</th>  <td>    1.2279</td> <td>    0.037</td> <td>   33.617</td> <td> 0.000</td> <td>    1.156</td> <td>    1.299</td>\n",
       "</tr>\n",
       "<tr>\n",
       "  <th>年平均车速_大于100</th>  <td>    1.9785</td> <td>    0.048</td> <td>   41.651</td> <td> 0.000</td> <td>    1.885</td> <td>    2.072</td>\n",
       "</tr>\n",
       "</table>"
      ],
      "text/plain": [
       "<class 'statsmodels.iolib.summary.Summary'>\n",
       "\"\"\"\n",
       "                 Generalized Linear Model Regression Results                  \n",
       "==============================================================================\n",
       "Dep. Variable:                   出险强度   No. Observations:                10302\n",
       "Model:                            GLM   Df Residuals:                    10293\n",
       "Model Family:                   Gamma   Df Model:                            8\n",
       "Link Function:                    log   Scale:                         0.99940\n",
       "Method:                          IRLS   Log-Likelihood:                    inf\n",
       "Date:                Sat, 08 Jul 2023   Deviance:                       12616.\n",
       "Time:                        06:44:52   Pearson chi2:                 1.03e+04\n",
       "No. Iterations:                    10   Pseudo R-squ. (CS):                nan\n",
       "Covariance Type:            nonrobust                                         \n",
       "================================================================================\n",
       "                   coef    std err          z      P>|z|      [0.025      0.975]\n",
       "--------------------------------------------------------------------------------\n",
       "const            5.8792      0.030    196.369      0.000       5.820       5.938\n",
       "年平均里程_5千-1万      0.4566      0.033     14.035      0.000       0.393       0.520\n",
       "年平均里程_1万-1万5     0.2789      0.032      8.817      0.000       0.217       0.341\n",
       "年平均里程_1万5-2万     0.3219      0.034      9.450      0.000       0.255       0.389\n",
       "年平均里程_大于2万       0.5572      0.041     13.577      0.000       0.477       0.638\n",
       "年平均车速_40-59      0.3061      0.024     12.551      0.000       0.258       0.354\n",
       "年平均车速_60-79      0.7286      0.028     25.641      0.000       0.673       0.784\n",
       "年平均车速_80-99      1.2279      0.037     33.617      0.000       1.156       1.299\n",
       "年平均车速_大于100      1.9785      0.048     41.651      0.000       1.885       2.072\n",
       "================================================================================\n",
       "\"\"\""
      ]
     },
     "execution_count": 52,
     "metadata": {},
     "output_type": "execute_result"
    }
   ],
   "source": [
    "# 出险强度模型\n",
    "sever_f_glm = sm.GLM(t_seve, features_f, family=sm.families.Gamma(link=sm.families.links.log())).fit()\n",
    "# 使用summary()查看拟合结果\n",
    "sever_f_glm.summary()"
   ]
  },
  {
   "attachments": {},
   "cell_type": "markdown",
   "metadata": {},
   "source": [
    "## 3. 根据回归模型计算预期保费"
   ]
  },
  {
   "cell_type": "code",
   "execution_count": 64,
   "metadata": {},
   "outputs": [
    {
     "data": {
      "text/html": [
       "<div>\n",
       "<style scoped>\n",
       "    .dataframe tbody tr th:only-of-type {\n",
       "        vertical-align: middle;\n",
       "    }\n",
       "\n",
       "    .dataframe tbody tr th {\n",
       "        vertical-align: top;\n",
       "    }\n",
       "\n",
       "    .dataframe thead th {\n",
       "        text-align: right;\n",
       "    }\n",
       "</style>\n",
       "<table border=\"1\" class=\"dataframe\">\n",
       "  <thead>\n",
       "    <tr style=\"text-align: right;\">\n",
       "      <th></th>\n",
       "      <th>用车区域</th>\n",
       "      <th>年平均里程</th>\n",
       "      <th>年平均车速</th>\n",
       "      <th>主要行车时间</th>\n",
       "      <th>出险频率</th>\n",
       "      <th>出险强度</th>\n",
       "      <th>预期出险频率</th>\n",
       "      <th>预期出险强度</th>\n",
       "      <th>预期保费</th>\n",
       "    </tr>\n",
       "  </thead>\n",
       "  <tbody>\n",
       "    <tr>\n",
       "      <th>0</th>\n",
       "      <td>城镇</td>\n",
       "      <td>5千-1万</td>\n",
       "      <td>60-79</td>\n",
       "      <td>日间</td>\n",
       "      <td>1</td>\n",
       "      <td>848</td>\n",
       "      <td>1.354249</td>\n",
       "      <td>1169.579020</td>\n",
       "      <td>1583.900664</td>\n",
       "    </tr>\n",
       "    <tr>\n",
       "      <th>1</th>\n",
       "      <td>城镇</td>\n",
       "      <td>小于5千</td>\n",
       "      <td>60-79</td>\n",
       "      <td>日间</td>\n",
       "      <td>0</td>\n",
       "      <td>182</td>\n",
       "      <td>1.019359</td>\n",
       "      <td>740.832643</td>\n",
       "      <td>755.174766</td>\n",
       "    </tr>\n",
       "    <tr>\n",
       "      <th>2</th>\n",
       "      <td>城镇</td>\n",
       "      <td>1万-1万5</td>\n",
       "      <td>60-79</td>\n",
       "      <td>夜间</td>\n",
       "      <td>0</td>\n",
       "      <td>1915</td>\n",
       "      <td>1.864268</td>\n",
       "      <td>979.143990</td>\n",
       "      <td>1825.387132</td>\n",
       "    </tr>\n",
       "    <tr>\n",
       "      <th>3</th>\n",
       "      <td>城镇</td>\n",
       "      <td>1万5-2万</td>\n",
       "      <td>80-99</td>\n",
       "      <td>夜间</td>\n",
       "      <td>5</td>\n",
       "      <td>681</td>\n",
       "      <td>3.317011</td>\n",
       "      <td>1684.004999</td>\n",
       "      <td>5585.863229</td>\n",
       "    </tr>\n",
       "    <tr>\n",
       "      <th>4</th>\n",
       "      <td>城镇</td>\n",
       "      <td>小于5千</td>\n",
       "      <td>小于40</td>\n",
       "      <td>日间</td>\n",
       "      <td>0</td>\n",
       "      <td>63</td>\n",
       "      <td>0.467079</td>\n",
       "      <td>357.514797</td>\n",
       "      <td>166.987640</td>\n",
       "    </tr>\n",
       "  </tbody>\n",
       "</table>\n",
       "</div>"
      ],
      "text/plain": [
       "  用车区域   年平均里程  年平均车速 主要行车时间  出险频率  出险强度    预期出险频率       预期出险强度         预期保费\n",
       "0   城镇   5千-1万  60-79     日间     1   848  1.354249  1169.579020  1583.900664\n",
       "1   城镇    小于5千  60-79     日间     0   182  1.019359   740.832643   755.174766\n",
       "2   城镇  1万-1万5  60-79     夜间     0  1915  1.864268   979.143990  1825.387132\n",
       "3   城镇  1万5-2万  80-99     夜间     5   681  3.317011  1684.004999  5585.863229\n",
       "4   城镇    小于5千   小于40     日间     0    63  0.467079   357.514797   166.987640"
      ]
     },
     "execution_count": 64,
     "metadata": {},
     "output_type": "execute_result"
    }
   ],
   "source": [
    "# 创建原数据表的复制防止对原数据表产生改动\n",
    "result = data.copy()\n",
    "# 使用predict()函数输入特征值得到对应的预测结果\n",
    "result['预期出险频率'] = freq_f_glm.predict(features_f)\n",
    "result['预期出险强度'] = sever_f_glm.predict(features_f)\n",
    "# 预期保费 = 预期出险频率 * 预期出险强度\n",
    "result['预期保费'] = result['预期出险频率'] * result['预期出险强度']\n",
    "# 查看数据前5行\n",
    "result.head(5)"
   ]
  },
  {
   "attachments": {},
   "cell_type": "markdown",
   "metadata": {},
   "source": [
    "预期保费随里程速度关系"
   ]
  },
  {
   "cell_type": "code",
   "execution_count": 71,
   "metadata": {},
   "outputs": [
    {
     "data": {
      "text/plain": [
       "<seaborn.axisgrid.FacetGrid at 0x1aaeb4cee20>"
      ]
     },
     "execution_count": 71,
     "metadata": {},
     "output_type": "execute_result"
    },
    {
     "data": {
      "image/png": "[encoded data removed]",
      "text/plain": [
       "<Figure size 722.5x600 with 1 Axes>"
      ]
     },
     "metadata": {},
     "output_type": "display_data"
    }
   ],
   "source": [
    "# 聚合取平均并重新排序\n",
    "plot_df = result.groupby(['年平均里程', '年平均车速']).mean().reset_index()\n",
    "speed_order = ['小于40', '40-59', '60-79', '80-99', '大于100']\n",
    "plot_df['年平均车速'] = pd.Categorical(plot_df['年平均车速'], categories=speed_order)\n",
    "mile_order = ['小于5千', '5千-1万', '1万-1万5', '1万5-2万', '大于2万']\n",
    "plot_df['年平均里程'] = pd.Categorical(plot_df['年平均里程'], categories=mile_order)\n",
    "# 绘制簇状条形图查看年平均里程、年平均车速和预期保费的关系\n",
    "sns.catplot(data=plot_df,\n",
    "            kind=\"bar\",\n",
    "            x='年平均里程',\n",
    "            y='预期保费',\n",
    "            hue='年平均车速',\n",
    "            height=6)"
   ]
  },
  {
   "attachments": {},
   "cell_type": "markdown",
   "metadata": {},
   "source": [
    "由图可以看出，在相同年平均车速的前提下，年平均里程越高，预期保费越高；在相同年平均里程的前提下，年平均车速越高，预期保费越高。在该定价模型下，我们能根据不同用户的驾驶行为给出差异化的保险费率，从而降低我们保险产品的风险，并且为客户提供价格更合理的保险产品。"
   ]
  }
 ],
 "metadata": {
  "kernelspec": {
   "display_name": "base",
   "language": "python",
   "name": "python3"
  },
  "language_info": {
   "codemirror_mode": {
    "name": "ipython",
    "version": 3
   },
   "file_extension": ".py",
   "mimetype": "text/x-python",
   "name": "python",
   "nbconvert_exporter": "python",
   "pygments_lexer": "ipython3",
   "version": "3.9.13"
  },
  "orig_nbformat": 4,
  "vscode": {
   "interpreter": {
    "hash": "ad2bdc8ecc057115af97d19610ffacc2b4e99fae6737bb82f5d7fb13d2f2c186"
   }
  }
 },
 "nbformat": 4,
 "nbformat_minor": 2
}
