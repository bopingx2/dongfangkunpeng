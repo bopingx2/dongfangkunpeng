{
 "cells": [
  {
   "cell_type": "code",
   "execution_count": 2,
   "metadata": {},
   "outputs": [],
   "source": [
    "# import packages 导入库，搭建环境\n",
    "import numpy as np  # 训练题 2分\n",
    "import pandas as pd  \n",
    "import warnings\n",
    "warnings.filterwarnings('ignore')"
   ]
  },
  {
   "cell_type": "code",
   "execution_count": 3,
   "metadata": {},
   "outputs": [],
   "source": [
    "data_customer = pd.read_csv('客户个人信息.csv')"
   ]
  },
  {
   "cell_type": "code",
   "execution_count": 4,
   "metadata": {},
   "outputs": [
    {
     "name": "stdout",
     "output_type": "stream",
     "text": [
      "CODE_GENDER :  ['M' 'F']\n",
      "NAME_EDUCATION_TYPE :  ['Secondary / secondary special' 'Incomplete higher' 'Higher education'\n",
      " 'Lower secondary' 'Academic degree']\n",
      "NAME_FAMILY_STATUS :  ['Single / not married' 'Married' 'Civil marriage' 'Separated' 'Widow'\n",
      " 'Unknown']\n",
      "OCCUPATION_TYPE :  ['Laborers' 'Cleaning staff' 'Sales staff' 'Drivers' 'Core staff' nan\n",
      " 'Managers' 'Medicine staff' 'Security staff' 'High skill tech staff'\n",
      " 'Accountants' 'Secretaries' 'Cooking staff' 'Private service staff'\n",
      " 'Low-skill Laborers' 'IT staff' 'Realty agents' 'Waiters/barmen staff'\n",
      " 'HR staff']\n",
      "ORGANIZATION_TYPE :  ['Government' 'Business Entity Type 2' 'Business Entity Type 3'\n",
      " 'Trade: type 2' 'Business Entity Type 1' 'Postal' 'Transport: type 3'\n",
      " 'Self-employed' 'Hotel' 'XNA' 'Trade: type 3' 'Industry: type 3' 'Bank'\n",
      " 'Police' 'Medicine' 'Emergency' 'School' 'Security' 'Services'\n",
      " 'Transport: type 2' 'Construction' 'Industry: type 9'\n",
      " 'Security Ministries' 'Trade: type 7' 'Kindergarten' 'Electricity'\n",
      " 'Other' 'Trade: type 4' 'Transport: type 4' 'Industry: type 7'\n",
      " 'Industry: type 8' 'Agriculture' 'Industry: type 11' 'Restaurant'\n",
      " 'University' 'Housing' 'Trade: type 1' 'Military' 'Industry: type 10'\n",
      " 'Industry: type 12' 'Industry: type 2' 'Industry: type 1'\n",
      " 'Legal Services' 'Telecom' 'Industry: type 5' 'Cleaning'\n",
      " 'Industry: type 4' 'Insurance' 'Realtor' 'Industry: type 13'\n",
      " 'Trade: type 6' 'Culture' 'Mobile' 'Transport: type 1' 'Industry: type 6'\n",
      " 'Advertising' 'Religion' 'Trade: type 5']\n"
     ]
    }
   ],
   "source": [
    "for col in data_customer.columns:\n",
    "    if data_customer[col].dtypes == object:\n",
    "        print(col, \": \", data_customer[col].unique() )"
   ]
  },
  {
   "cell_type": "code",
   "execution_count": 5,
   "metadata": {},
   "outputs": [
    {
     "name": "stdout",
     "output_type": "stream",
     "text": [
      "['Advertising' 'Agriculture' 'Bank' 'Business Entity Type 1'\n",
      " 'Business Entity Type 2' 'Business Entity Type 3' 'Cleaning'\n",
      " 'Construction' 'Culture' 'Electricity' 'Emergency' 'Government' 'Hotel'\n",
      " 'Housing' 'Industry: type 1' 'Industry: type 10' 'Industry: type 11'\n",
      " 'Industry: type 12' 'Industry: type 13' 'Industry: type 2'\n",
      " 'Industry: type 3' 'Industry: type 4' 'Industry: type 5'\n",
      " 'Industry: type 6' 'Industry: type 7' 'Industry: type 8'\n",
      " 'Industry: type 9' 'Insurance' 'Kindergarten' 'Legal Services' 'Medicine'\n",
      " 'Military' 'Mobile' 'Other' 'Police' 'Postal' 'Realtor' 'Religion'\n",
      " 'Restaurant' 'School' 'Security' 'Security Ministries' 'Self-employed'\n",
      " 'Services' 'Telecom' 'Trade: type 1' 'Trade: type 2' 'Trade: type 3'\n",
      " 'Trade: type 4' 'Trade: type 5' 'Trade: type 6' 'Trade: type 7'\n",
      " 'Transport: type 1' 'Transport: type 2' 'Transport: type 3'\n",
      " 'Transport: type 4' 'University' 'XNA']\n"
     ]
    }
   ],
   "source": [
    "print(np.sort(data_customer['ORGANIZATION_TYPE'].unique()))"
   ]
  },
  {
   "cell_type": "code",
   "execution_count": 6,
   "metadata": {},
   "outputs": [
    {
     "name": "stdout",
     "output_type": "stream",
     "text": [
      "FLAG_OWN_CAR :  ['N' 'Y']\n",
      "FLAG_OWN_REALTY :  ['Y' 'N']\n"
     ]
    }
   ],
   "source": [
    "data_credit = pd.read_csv('贷款申请信息.csv')\n",
    "for col in data_credit.columns:\n",
    "    if data_credit[col].dtypes == object:\n",
    "        print(col, \": \", data_credit[col].unique())"
   ]
  },
  {
   "cell_type": "code",
   "execution_count": 7,
   "metadata": {},
   "outputs": [
    {
     "name": "stdout",
     "output_type": "stream",
     "text": [
      "NAME_CONTRACT_TYPE :  ['Cash loans' 'Consumer loans' 'Revolving loans' 'XNA']\n",
      "NAME_CASH_LOAN_PURPOSE :  ['XNA' 'XAP' 'Building a house or an annex' 'Repairs' 'Urgent needs'\n",
      " 'Car repairs' 'Buying a used car' 'Medicine' 'Everyday expenses'\n",
      " 'Journey' 'Education' 'Other' 'Purchase of electronic equipment'\n",
      " 'Payments on other loans' 'Wedding / gift / holiday'\n",
      " 'Buying a holiday home / land' 'Buying a new car' 'Business development'\n",
      " 'Furniture' 'Buying a home' 'Gasification / water supply'\n",
      " 'Buying a garage']\n",
      "NAME_CONTRACT_STATUS :  ['Approved' 'Canceled' 'Refused' 'Unused offer']\n"
     ]
    }
   ],
   "source": [
    "data_application = pd.read_csv('历史贷款记录.csv')\n",
    "for col in data_application.columns:\n",
    "    if data_application[col].dtypes == object:\n",
    "        print(col, \": \", data_application[col].unique())"
   ]
  },
  {
   "cell_type": "code",
   "execution_count": 8,
   "metadata": {},
   "outputs": [],
   "source": [
    "data_payment = pd.read_csv('历史还款记录.csv')\n",
    "for col in data_payment.columns:\n",
    "    if data_payment[col].dtypes == object:\n",
    "        print(col, \": \", data_payment[col].unique())"
   ]
  }
 ],
 "metadata": {
  "kernelspec": {
   "display_name": "eods-f22",
   "language": "python",
   "name": "python3"
  },
  "language_info": {
   "codemirror_mode": {
    "name": "ipython",
    "version": 3
   },
   "file_extension": ".py",
   "mimetype": "text/x-python",
   "name": "python",
   "nbconvert_exporter": "python",
   "pygments_lexer": "ipython3",
   "version": "3.11.5"
  },
  "orig_nbformat": 4
 },
 "nbformat": 4,
 "nbformat_minor": 2
}
