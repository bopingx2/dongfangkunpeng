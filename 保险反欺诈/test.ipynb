{
 "cells": [
  {
   "cell_type": "code",
   "execution_count": 1,
   "metadata": {},
   "outputs": [],
   "source": [
    "# import packages 导入库，搭建环境\n",
    "import numpy as np\n",
    "import pandas as pd  \n",
    "import matplotlib\n",
    "import matplotlib.pyplot as plt\n",
    "import seaborn as sns\n",
    "\n",
    "# ignore warnings 可以删除\n",
    "import warnings\n",
    "warnings.filterwarnings('ignore')\n",
    "\n",
    "# 为了让matplotlib里显示中文字符\n",
    "import matplotlib.font_manager as fm \n",
    "matplotlib.rcParams['font.family'] = 'Microsoft Yahei' # 设置字体"
   ]
  },
  {
   "cell_type": "code",
   "execution_count": 2,
   "metadata": {},
   "outputs": [],
   "source": [
    "def missingRateIndex(data,thre=0.95):\n",
    "    data = np.array(data)\n",
    "    nrow = data.shape[0]\n",
    "    if nrow == 0:\n",
    "            nrow = 1\n",
    "    #print nrow\n",
    "    miss_index = []\n",
    "    for i in range(np.shape(data)[1]):\n",
    "        #con1 = np.any([data[:,i] == ' ', data[:,i] == 'NA'],axis=1)\n",
    "        #missing_num = data[con1,0].shape[0]\n",
    "        missing_num = data[np.any([data[:,i] == '', data[:,i] == 'NA', data[:,i] == 'NULL'],axis=0),i].shape[0]\n",
    "        if round(missing_num/float(nrow),3) >= thre:\n",
    "            miss_index.append(i)\n",
    "    return miss_index\n"
   ]
  }
 ],
 "metadata": {
  "kernelspec": {
   "display_name": "base",
   "language": "python",
   "name": "python3"
  },
  "language_info": {
   "codemirror_mode": {
    "name": "ipython",
    "version": 3
   },
   "file_extension": ".py",
   "mimetype": "text/x-python",
   "name": "python",
   "nbconvert_exporter": "python",
   "pygments_lexer": "ipython3",
   "version": "3.9.13"
  },
  "orig_nbformat": 4
 },
 "nbformat": 4,
 "nbformat_minor": 2
}
